{
 "cells": [
  {
   "cell_type": "code",
   "execution_count": 8,
   "metadata": {},
   "outputs": [],
   "source": [
    "teams = [\n",
    "    \"Kansas\", \"Duke\", \"Purdue\", \"UConn\", \"Marquette\", \"Tennessee\", \"Arizona\", \"Gonzaga\",\n",
    "    \"Kentucky\", \"Baylor\", \"Texas\", \"Miami\", \"Alabama\", \"Michigan State\", \"North Carolina\", \"Indiana\",\n",
    "    \n",
    "    \"Houston\", \"UCLA\", \"Xavier\", \"Creighton\", \"TCU\", \"Missouri\", \"Iowa State\", \"Arkansas\",\n",
    "    \"San Diego State\", \"Illinois\", \"Auburn\", \"Providence\", \"USC\", \"Memphis\", \"West Virginia\", \"Boise State\",\n",
    "    \n",
    "    \"Virginia\", \"Maryland\", \"Oregon\", \"Saint Mary's\", \"Iowa\", \"Florida Atlantic\", \"NC State\", \"Texas A&M\",\n",
    "    \"Mississippi State\", \"Oklahoma State\", \"Northwestern\", \"Pittsburgh\", \"Utah State\", \"Penn State\", \"Drake\", \"VCU\",\n",
    "    \n",
    "    \"Charleston\", \"Furman\", \"Colgate\", \"Iona\", \"Kent State\", \"Oral Roberts\", \"UC Santa Barbara\", \"Louisiana\",\n",
    "    \"Kennesaw State\", \"Montana State\", \"Grand Canyon\", \"Howard\", \"Northern Kentucky\", \"Texas Southern\", \"Fairleigh Dickinson\", \"UNC Asheville\"\n",
    "]\n"
   ]
  },
  {
   "cell_type": "code",
   "execution_count": null,
   "metadata": {},
   "outputs": [],
   "source": [
    "from march_madness.tournament import Tournament, Game\n",
    "\n",
    "tournament = Tournament(teams=teams, region_sizes=[16, 16, 16, 16])\n",
    "\n",
    "unplayed_games = tournament.get_unplayed_games()\n",
    "\n",
    "for game in unplayed_games:\n",
    "    tournament.update_game_result(game, game.team1)"
   ]
  }
 ],
 "metadata": {
  "kernelspec": {
   "display_name": "march-madness",
   "language": "python",
   "name": "python3"
  },
  "language_info": {
   "codemirror_mode": {
    "name": "ipython",
    "version": 3
   },
   "file_extension": ".py",
   "mimetype": "text/x-python",
   "name": "python",
   "nbconvert_exporter": "python",
   "pygments_lexer": "ipython3",
   "version": "3.12.9"
  }
 },
 "nbformat": 4,
 "nbformat_minor": 2
}
