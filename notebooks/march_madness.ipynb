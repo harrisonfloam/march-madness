{
 "cells": [
  {
   "cell_type": "code",
   "execution_count": null,
   "metadata": {},
   "outputs": [],
   "source": [
    "%load_ext autoreload\n",
    "%autoreload 2"
   ]
  },
  {
   "cell_type": "code",
   "execution_count": null,
   "metadata": {},
   "outputs": [],
   "source": [
    "import pandas as pd\n",
    "\n",
    "teams = pd.read_csv(\"../data/march_madness_2024.csv\")"
   ]
  },
  {
   "cell_type": "code",
   "execution_count": null,
   "metadata": {},
   "outputs": [],
   "source": [
    "from march_madness.tournament import Tournament\n",
    "\n",
    "tournament = Tournament(teams=teams)\n",
    "\n",
    "unplayed_games = tournament.get_unplayed_games()\n",
    "print(f\"Round 1: {len(unplayed_games)} games\")\n",
    "for game in unplayed_games:\n",
    "    tournament.update_game_result(game, game.team1)\n",
    "\n",
    "unplayed_games = tournament.get_unplayed_games()\n",
    "print(f\"Round 2: {len(unplayed_games)} games\")\n",
    "for game in unplayed_games:\n",
    "    tournament.update_game_result(game, game.team1)\n",
    "    \n",
    "unplayed_games = tournament.get_unplayed_games()\n",
    "print(f\"Round 3: {len(unplayed_games)} games\")\n",
    "for game in unplayed_games:\n",
    "    tournament.update_game_result(game, game.team1)\n",
    "    \n",
    "unplayed_games = tournament.get_unplayed_games()\n",
    "print(f\"Round 4: {len(unplayed_games)} games\")\n",
    "for game in unplayed_games:\n",
    "    tournament.update_game_result(game, game.team1)\n",
    "\n",
    "unplayed_games = tournament.get_unplayed_games()\n",
    "print(f\"Round 5: {len(unplayed_games)} games\")\n",
    "for game in unplayed_games:\n",
    "    tournament.update_game_result(game, game.team1)\n",
    "    \n",
    "unplayed_games = tournament.get_unplayed_games()\n",
    "print(f\"Round 6: {len(unplayed_games)} games\")\n",
    "for game in unplayed_games:\n",
    "    tournament.update_game_result(game, game.team1)\n",
    "    "
   ]
  },
  {
   "cell_type": "code",
   "execution_count": null,
   "metadata": {},
   "outputs": [],
   "source": [
    "from march_madness.prediction import random_prediction, team1_always_wins\n",
    "from march_madness.tournament import Tournament, TournamentSimulator\n",
    "\n",
    "simulator = TournamentSimulator(num_trials=10,\n",
    "                                tournament_class=Tournament,\n",
    "                                tournament_params={\"teams\": teams},\n",
    "                                prediction_strategy=random_prediction,\n",
    "                                seed=42)\n",
    "\n",
    "simulator.run(verbose=True)\n",
    "df = simulator.to_dataframe()\n",
    "df.head()"
   ]
  },
  {
   "cell_type": "code",
   "execution_count": null,
   "metadata": {},
   "outputs": [],
   "source": [
    "from march_madness.prediction import llm_prediction\n",
    "from march_madness.tournament import Tournament, TournamentSimulator\n",
    "\n",
    "simulator = TournamentSimulator(num_trials=100,\n",
    "                                tournament_class=Tournament,\n",
    "                                tournament_params={\"teams\": teams},\n",
    "                                prediction_strategy=llm_prediction,\n",
    "                                prediction_strategy_kwargs={\n",
    "                                    \"model_name\": \"llama3.2:1b\"\n",
    "                                },\n",
    "                                result_path=\"../results/llama3_2-1b.csv\",\n",
    "                                seed=42)\n",
    "\n",
    "simulator.run(resume=True, verbose=True)\n",
    "df = simulator.to_dataframe()\n",
    "df.head()"
   ]
  },
  {
   "cell_type": "code",
   "execution_count": null,
   "metadata": {},
   "outputs": [],
   "source": [
    "df[\"game_id_str\"] = df[\"game_id\"].astype(str)\n",
    "\n",
    "trial_brackets = df.groupby(\"trial\")[[\"game_id_str\", \"game_winner\"]].apply(lambda x: tuple(zip(x[\"game_id_str\"], x[\"game_winner\"])))\n",
    "\n",
    "bracket_counts = trial_brackets.value_counts().reset_index()\n",
    "bracket_counts.columns = [\"bracket\", \"count\"]\n",
    "\n",
    "total_trials = df[\"trial\"].nunique()\n",
    "bracket_counts[\"percentage\"] = (bracket_counts[\"count\"] / total_trials) * 100\n",
    "\n",
    "# most common full bracket\n",
    "best_bracket_tuple = bracket_counts.iloc[0][\"bracket\"]  # Most frequent bracket\n",
    "best_bracket_df = pd.DataFrame(best_bracket_tuple, columns=[\"game_id_str\", \"game_winner\"])\n",
    "\n",
    "# add frequency and percentage for each game\n",
    "game_frequencies = df.groupby([\"game_id_str\", \"game_winner\"]).size().reset_index(name=\"game_count\")\n",
    "game_frequencies[\"game_percentage\"] = (game_frequencies[\"game_count\"] / total_trials) * 100\n",
    "\n",
    "best_bracket_df = best_bracket_df.merge(game_frequencies, on=[\"game_id_str\", \"game_winner\"], how=\"left\")\n",
    "\n",
    "best_bracket_df = best_bracket_df.drop(columns=[\"game_id_str\"])\n",
    "\n",
    "best_bracket_df\n",
    "\n",
    "# weight later rounds heavier?"
   ]
  }
 ],
 "metadata": {
  "kernelspec": {
   "display_name": "march-madness",
   "language": "python",
   "name": "python3"
  },
  "language_info": {
   "codemirror_mode": {
    "name": "ipython",
    "version": 3
   },
   "file_extension": ".py",
   "mimetype": "text/x-python",
   "name": "python",
   "nbconvert_exporter": "python",
   "pygments_lexer": "ipython3",
   "version": "3.12.9"
  }
 },
 "nbformat": 4,
 "nbformat_minor": 2
}
