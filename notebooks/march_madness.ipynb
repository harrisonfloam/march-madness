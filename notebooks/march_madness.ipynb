{
 "cells": [
  {
   "cell_type": "code",
   "execution_count": 32,
   "metadata": {},
   "outputs": [
    {
     "name": "stdout",
     "output_type": "stream",
     "text": [
      "The autoreload extension is already loaded. To reload it, use:\n",
      "  %reload_ext autoreload\n"
     ]
    }
   ],
   "source": [
    "%load_ext autoreload\n",
    "%autoreload 2"
   ]
  },
  {
   "cell_type": "code",
   "execution_count": 33,
   "metadata": {},
   "outputs": [],
   "source": [
    "import pandas as pd\n",
    "\n",
    "teams = pd.read_csv(\"../data/march_madness_2024.csv\")"
   ]
  },
  {
   "cell_type": "code",
   "execution_count": 34,
   "metadata": {},
   "outputs": [
    {
     "name": "stdout",
     "output_type": "stream",
     "text": [
      "Round 1: 32 games\n",
      "Round 2: 16 games\n",
      "Round 3: 8 games\n",
      "Round 4: 4 games\n",
      "Round 5: 2 games\n",
      "Round 6: 1 games\n",
      "Tournament winner: UConn\n"
     ]
    }
   ],
   "source": [
    "from march_madness.tournament import Tournament\n",
    "\n",
    "tournament = Tournament(teams=teams)\n",
    "\n",
    "unplayed_games = tournament.get_unplayed_games()\n",
    "print(f\"Round 1: {len(unplayed_games)} games\")\n",
    "\n",
    "for game in unplayed_games:\n",
    "    tournament.update_game_result(game, game.team1)\n",
    "\n",
    "unplayed_games = tournament.get_unplayed_games()\n",
    "print(f\"Round 2: {len(unplayed_games)} games\")\n",
    "for game in unplayed_games:\n",
    "    tournament.update_game_result(game, game.team1)\n",
    "    \n",
    "unplayed_games = tournament.get_unplayed_games()\n",
    "print(f\"Round 3: {len(unplayed_games)} games\")\n",
    "for game in unplayed_games:\n",
    "    tournament.update_game_result(game, game.team1)\n",
    "    \n",
    "unplayed_games = tournament.get_unplayed_games()\n",
    "print(f\"Round 4: {len(unplayed_games)} games\")\n",
    "for game in unplayed_games:\n",
    "    tournament.update_game_result(game, game.team1)\n",
    "\n",
    "unplayed_games = tournament.get_unplayed_games()\n",
    "print(f\"Round 5: {len(unplayed_games)} games\")\n",
    "for game in unplayed_games:\n",
    "    tournament.update_game_result(game, game.team1)\n",
    "    \n",
    "unplayed_games = tournament.get_unplayed_games()\n",
    "print(f\"Round 6: {len(unplayed_games)} games\")\n",
    "for game in unplayed_games:\n",
    "    tournament.update_game_result(game, game.team1, verbose=True)"
   ]
  }
 ],
 "metadata": {
  "kernelspec": {
   "display_name": "march-madness",
   "language": "python",
   "name": "python3"
  },
  "language_info": {
   "codemirror_mode": {
    "name": "ipython",
    "version": 3
   },
   "file_extension": ".py",
   "mimetype": "text/x-python",
   "name": "python",
   "nbconvert_exporter": "python",
   "pygments_lexer": "ipython3",
   "version": "3.12.9"
  }
 },
 "nbformat": 4,
 "nbformat_minor": 2
}
