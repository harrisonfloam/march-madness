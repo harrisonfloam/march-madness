{
 "cells": [
  {
   "cell_type": "code",
   "execution_count": 40,
   "metadata": {},
   "outputs": [],
   "source": [
    "%load_ext autoreload\n",
    "%autoreload 2"
   ]
  },
  {
   "cell_type": "code",
   "execution_count": null,
   "metadata": {},
   "outputs": [],
   "source": [
    "teams = [\n",
    "    \"Kansas\", \"Duke\", \"Purdue\", \"UConn\", \"Marquette\", \"Tennessee\", \"Arizona\", \"Gonzaga\",\n",
    "    \"Kentucky\", \"Baylor\", \"Texas\", \"Miami\", \"Alabama\", \"Michigan State\", \"North Carolina\", \"Indiana\",\n",
    "]"
   ]
  },
  {
   "cell_type": "code",
   "execution_count": 69,
   "metadata": {},
   "outputs": [],
   "source": [
    "teams = [\n",
    "    \"Kansas\", \"Duke\", \"Purdue\", \"UConn\", \"Marquette\", \"Tennessee\", \"Arizona\", \"Gonzaga\",\n",
    "    \"Kentucky\", \"Baylor\", \"Texas\", \"Miami\", \"Alabama\", \"Michigan State\", \"North Carolina\", \"Indiana\",\n",
    "\n",
    "    \"Houston\", \"UCLA\", \"Xavier\", \"Creighton\", \"TCU\", \"Missouri\", \"Iowa State\", \"Arkansas\",\n",
    "    \"San Diego State\", \"Illinois\", \"Auburn\", \"Providence\", \"USC\", \"Memphis\", \"West Virginia\", \"Boise State\",\n",
    "    \n",
    "    \"Virginia\", \"Maryland\", \"Oregon\", \"Saint Mary's\", \"Iowa\", \"Florida Atlantic\", \"NC State\", \"Texas A&M\",\n",
    "    \"Mississippi State\", \"Oklahoma State\", \"Northwestern\", \"Pittsburgh\", \"Utah State\", \"Penn State\", \"Drake\", \"VCU\",\n",
    "    \n",
    "    \"Charleston\", \"Furman\", \"Colgate\", \"Iona\", \"Kent State\", \"Oral Roberts\", \"UC Santa Barbara\", \"Louisiana\",\n",
    "    \"Kennesaw State\", \"Montana State\", \"Grand Canyon\", \"Howard\", \"Northern Kentucky\", \"Texas Southern\", \"Fairleigh Dickinson\", \"UNC Asheville\"\n",
    "]\n"
   ]
  },
  {
   "cell_type": "code",
   "execution_count": 54,
   "metadata": {},
   "outputs": [],
   "source": [
    "import pandas as pd\n",
    "\n",
    "teams = pd.read_csv(\"../data/march_madness_2024.csv\")"
   ]
  },
  {
   "cell_type": "code",
   "execution_count": 64,
   "metadata": {},
   "outputs": [
    {
     "name": "stdout",
     "output_type": "stream",
     "text": [
      "Round 1: 32 games\n",
      "Round 2: 16 games\n",
      "Round 3: 8 games\n",
      "Round 4: 4 games\n",
      "Round 5: 2 games\n",
      "Round 6: 1 games\n",
      "Tournament winner: UConn\n"
     ]
    }
   ],
   "source": [
    "from march_madness.tournament import Tournament\n",
    "\n",
    "tournament = Tournament(teams=teams)\n",
    "\n",
    "unplayed_games = tournament.get_unplayed_games()\n",
    "print(f\"Round 1: {len(unplayed_games)} games\")\n",
    "\n",
    "for game in unplayed_games:\n",
    "    tournament.update_game_result(game, game.team1)\n",
    "    # print(f\"Round {game.round_number}: {game.team1} vs. {game.team2}\")\n",
    "    # unplayed_games = tournament.get_unplayed_games()\n",
    "    # print(f\"Round 1: {len(unplayed_games)} games\")\n",
    "\n",
    "unplayed_games = tournament.get_unplayed_games()\n",
    "print(f\"Round 2: {len(unplayed_games)} games\")\n",
    "for game in unplayed_games:\n",
    "    tournament.update_game_result(game, game.team1)\n",
    "    \n",
    "unplayed_games = tournament.get_unplayed_games()\n",
    "print(f\"Round 3: {len(unplayed_games)} games\")\n",
    "for game in unplayed_games:\n",
    "    tournament.update_game_result(game, game.team1)\n",
    "    \n",
    "unplayed_games = tournament.get_unplayed_games()\n",
    "print(f\"Round 4: {len(unplayed_games)} games\")\n",
    "for game in unplayed_games:\n",
    "    tournament.update_game_result(game, game.team1)\n",
    "\n",
    "unplayed_games = tournament.get_unplayed_games()\n",
    "print(f\"Round 5: {len(unplayed_games)} games\")\n",
    "for game in unplayed_games:\n",
    "    tournament.update_game_result(game, game.team1)\n",
    "    \n",
    "unplayed_games = tournament.get_unplayed_games()\n",
    "print(f\"Round 6: {len(unplayed_games)} games\")\n",
    "for game in unplayed_games:\n",
    "    tournament.update_game_result(game, game.team1, verbose=True)"
   ]
  },
  {
   "cell_type": "code",
   "execution_count": 34,
   "metadata": {},
   "outputs": [
    {
     "name": "stdout",
     "output_type": "stream",
     "text": [
      "{16, 1, 8, 9}\n",
      "{4, 13, 12, 5}\n",
      "{3, 11, 6, 14}\n",
      "{10, 2, 15, 7}\n"
     ]
    }
   ],
   "source": [
    "from itertools import batched\n",
    "\n",
    "ncaa_bracket_progression = [\n",
    "    (1, 16), (8, 9),\n",
    "    (5, 12), (4, 13),\n",
    "    (6, 11), (3, 14),\n",
    "    (7, 10), (2, 15)\n",
    "]\n",
    "\n",
    "ncaa_bracket_progression = [\n",
    "    1, 16, 8, 9,\n",
    "    5, 12, 4, 13,\n",
    "    6, 11, 3, 14,\n",
    "    7, 10, 2, 15\n",
    "]\n",
    "\n",
    "current_round = 2\n",
    "chunk_size = 2**(current_round)  # Change dynamically per round (2, 4, 8, ...)\n",
    "for chunk in batched(ncaa_bracket_progression, chunk_size):\n",
    "    chunk_set = set(chunk)\n",
    "    print(chunk_set)"
   ]
  },
  {
   "cell_type": "code",
   "execution_count": 39,
   "metadata": {},
   "outputs": [
    {
     "data": {
      "text/plain": [
       "(1, 2, 3, 4)"
      ]
     },
     "execution_count": 39,
     "metadata": {},
     "output_type": "execute_result"
    }
   ],
   "source": [
    "[num for num in [1, 2, 3, 4]]\n",
    "\n",
    "tuple(num for num in [1, 2, 3, 4])"
   ]
  }
 ],
 "metadata": {
  "kernelspec": {
   "display_name": "march-madness",
   "language": "python",
   "name": "python3"
  },
  "language_info": {
   "codemirror_mode": {
    "name": "ipython",
    "version": 3
   },
   "file_extension": ".py",
   "mimetype": "text/x-python",
   "name": "python",
   "nbconvert_exporter": "python",
   "pygments_lexer": "ipython3",
   "version": "3.12.9"
  }
 },
 "nbformat": 4,
 "nbformat_minor": 2
}
